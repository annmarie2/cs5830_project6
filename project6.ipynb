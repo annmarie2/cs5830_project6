{
 "cells": [
  {
   "cell_type": "markdown",
   "metadata": {},
   "source": [
    "# Predicting water baseflow\n",
    "\n",
    "## Load and clean the database"
   ]
  },
  {
   "cell_type": "code",
   "execution_count": 48,
   "metadata": {},
   "outputs": [],
   "source": [
    "# imports\n",
    "import pandas as pd \n",
    "import matplotlib.pyplot as plt\n",
    "\n",
    "df = pd.read_csv('RRCA_baseflow.csv')\n",
    "\n",
    "# Remove whitespace in col names\n",
    "df.columns = df.columns.str.strip()\n",
    "\n",
    "# create a modified date column to deal with idiosyncrasies\n",
    "df['NewDate'] = df['Date'] - 693963\n",
    "\n",
    "# create a positive Irrigation_pumping column to visualize the data better\n",
    "df['PositiveIrrigation'] = df['Irrigation_pumping'] * -1"
   ]
  },
  {
   "cell_type": "markdown",
   "metadata": {},
   "source": [
    "## Initial scatterplots to visualize the data\n",
    "\n",
    "For each river segment, what is the relationship between observed flow and precipitation, irrigation, and evapotranspiration:"
   ]
  },
  {
   "cell_type": "code",
   "execution_count": null,
   "metadata": {},
   "outputs": [],
   "source": [
    "# Get unique segment IDs\n",
    "unique_segment_ids = df['Segment_id'].unique()\n",
    "\n",
    "# Create a figure with subplots for each unique segment ID\n",
    "fig, axs = plt.subplots(len(unique_segment_ids), 3, figsize=(15, 5 * len(unique_segment_ids)))\n",
    "\n",
    "# Loop through each unique segment ID and plot the scatter plots\n",
    "for i, segment_id in enumerate(unique_segment_ids):\n",
    "    df_filtered = df[df['Segment_id'] == segment_id]\n",
    "    # df_filtered.plot(kind='scatter', x='Irrigation_pumping', y='Observed', ax=axs[i, 0], title=f'Segment ID: {segment_id}')\n",
    "    df_filtered.plot(kind='scatter', x='PositiveIrrigation', y='Observed', ax=axs[i, 0], title=f'Segment ID: {segment_id}')\n",
    "    df_filtered.plot(kind='scatter', x='Precipitation', y='Observed', ax=axs[i, 1], title=f'Segment ID: {segment_id}')\n",
    "    df_filtered.plot(kind='scatter', x='Evapotranspiration', y='Observed', ax=axs[i, 2], title=f'Segment ID: {segment_id}')\n",
    "\n",
    "plt.tight_layout()\n",
    "plt.show()\n",
    "\n",
    "# Note: I tried flipping the axes here so that the zeros are on the x-axis, but it looked messier to me"
   ]
  },
  {
   "cell_type": "markdown",
   "metadata": {},
   "source": [
    "How do these relationships change over time?"
   ]
  },
  {
   "cell_type": "code",
   "execution_count": null,
   "metadata": {},
   "outputs": [],
   "source": [
    "# Get unique segment IDs\n",
    "unique_segment_ids = df['Segment_id'].unique()\n",
    "\n",
    "# For each segment, plot the observed baseflow over time\n",
    "fig, axs = plt.subplots(len(unique_segment_ids), 1, figsize=(15, 5 * len(unique_segment_ids)))\n",
    "\n",
    "# Loop through each unique segment ID and plot the scatter plots\n",
    "for i, segment_id in enumerate(unique_segment_ids):\n",
    "    df_filtered = df[df['Segment_id'] == segment_id]\n",
    "    df_filtered.plot(kind='scatter', x='NewDate', y='Observed', ax=axs[i], title=f'Segment ID: {segment_id}')\n",
    "\n",
    "plt.tight_layout()\n",
    "plt.show()\n"
   ]
  },
  {
   "cell_type": "markdown",
   "metadata": {},
   "source": [
    "### Is there a relationship between observed waterflow and evapotranspiration, precipitation, or irrigaion? \n",
    "\n",
    "Our tentative observations based on these scatterplots:\n",
    "    * As there is more evapotranspiration in an area, the observed waterflow is lower\n",
    "    * As more water is being pumped out for irrigation, the observed waterflow is lower\n",
    "    * As there is more precipation in an area, ther _may_ be more observed waterflow"
   ]
  },
  {
   "cell_type": "markdown",
   "metadata": {},
   "source": [
    "## Estimating (\"Learning\") Model Coefficients"
   ]
  },
  {
   "cell_type": "code",
   "execution_count": null,
   "metadata": {},
   "outputs": [],
   "source": [
    "# create X and y\n",
    "feature_cols = ['Irrigation_pumping', 'Precipitation', 'Evapotranspiration']\n",
    "# feature_cols = ['Irrigation_pumping']\n",
    "X = df[feature_cols]\n",
    "y = df.Observed\n",
    "\n",
    "# follow the usual sklearn pattern: import, instantiate, fit\n",
    "from sklearn.linear_model import LinearRegression\n",
    "lm = LinearRegression()\n",
    "lm.fit(X, y)\n",
    "\n",
    "# print intercept and coefficients\n",
    "print(lm.intercept_)\n",
    "print(lm.coef_)"
   ]
  },
  {
   "cell_type": "markdown",
   "metadata": {},
   "source": [
    "## Interpreting Model Coefficients\n",
    "\n",
    "A \"unit\" increase in irrigation pumping is __associated with__ an 18.73476 \"unit\" increase in observed baseflow.\n",
    "\n",
    "Wot?? That doesn't even make sense though because the charts seem to be saying that an increase in pumping _decreases_ the baseflow. Hmmm.\n",
    "\n",
    "Ohhh, I see though. Irrigation right now is measured in negative values, meaning it's measuring the water being taken from the stream as a negative value. So as the amount of water being pumped _decreases_, the baseflow goes up. And that's with a \"unit\" increase of like 18.73476."
   ]
  },
  {
   "cell_type": "markdown",
   "metadata": {},
   "source": [
    "### How strong are the relationships between observed waterflow and evapotranspiration, precipitaiton, or irrigation?"
   ]
  },
  {
   "cell_type": "markdown",
   "metadata": {},
   "source": [
    "## Using the Model for Prediction\n",
    "\n",
    "(In other words: given irrigation, evapotranspiration, or precipitation, can baseflow be predicted?)\n",
    "\n",
    "Use the Statsmodels to make the prediction:"
   ]
  },
  {
   "cell_type": "code",
   "execution_count": null,
   "metadata": {},
   "outputs": [],
   "source": [
    "# you have to create a DataFrame since the Statsmodels formula interface expects it\n",
    "# X_new = pd.DataFrame({'Irrigation_pumping': [50], 'Precipitation': [40], 'Evapotranspiration': [30]})\n",
    "X_new = pd.DataFrame({'Irrigation_pumping': [50]})\n",
    "display(X_new)"
   ]
  },
  {
   "cell_type": "code",
   "execution_count": null,
   "metadata": {},
   "outputs": [],
   "source": [
    "# use the model to make predictions on a new value\n",
    "lm.predict(X_new.values)"
   ]
  },
  {
   "cell_type": "markdown",
   "metadata": {},
   "source": [
    "TODO: The above is kind of an arbitrary test of lm.predict right now, since it's using dummy values. I'm not sure what the usefulness of 50 irrigation, 40 precip, and 30 evapo would be."
   ]
  },
  {
   "cell_type": "markdown",
   "metadata": {},
   "source": [
    "## Plotting the Least Squares Line\n",
    "\n",
    "Let's make predictions for the __smallest and largest observed values of x__, and then use the predicted values to plot the least squares line:"
   ]
  },
  {
   "cell_type": "code",
   "execution_count": null,
   "metadata": {},
   "outputs": [],
   "source": [
    "# create a DataFrame with the minimum and maximum values of Irrigation_pumping, Precipitation, and Evapotranspiration\n",
    "# X_new = pd.DataFrame({'Irrigation_pumping': [df.Irrigation_pumping.min(), df.Irrigation_pumping.max()], 'Precipitation': [df.Precipitation.min(), df.Precipitation.max()], 'Evapotranspiration': [df.Evapotranspiration.min(), df.Evapotranspiration.max()]})\n",
    "X_new = pd.DataFrame({'Irrigation_pumping': [df.Irrigation_pumping.min(), df.Irrigation_pumping.max()]})\n",
    "X_new"
   ]
  },
  {
   "cell_type": "code",
   "execution_count": null,
   "metadata": {},
   "outputs": [],
   "source": [
    "# make predictions for those x values and store them\n",
    "preds = lm.predict(X_new)\n",
    "preds"
   ]
  },
  {
   "cell_type": "code",
   "execution_count": null,
   "metadata": {},
   "outputs": [],
   "source": [
    "# use seaborn to plot the observed data\n",
    "import seaborn as sns\n",
    "\n",
    "sns.regplot(x='Irrigation_pumping', y='Observed', data=df, line_kws={'color': 'red'})"
   ]
  },
  {
   "cell_type": "markdown",
   "metadata": {},
   "source": [
    "## Confidence in our Model\n",
    "\n",
    "Use __statsmodels__ to compute the __confidence interval__."
   ]
  },
  {
   "cell_type": "code",
   "execution_count": null,
   "metadata": {},
   "outputs": [],
   "source": [
    "# this is the standard import if you're using \"formula notation\"\n",
    "import statsmodels.formula.api as smf\n",
    "\n",
    "# create a fitted model in one line\n",
    "lm = smf.ols(formula='Observed ~ Irrigation_pumping', data=df).fit()\n",
    "\n",
    "# print the coefficients\n",
    "display(lm.params)\n",
    "\n",
    "# print the confidence intervals for the model coefficients\n",
    "display(lm.conf_int())"
   ]
  },
  {
   "cell_type": "markdown",
   "metadata": {},
   "source": [
    "This says that when `Irrigaion_pumping` is zero, the expected value of Observed is 25.007945.\n",
    "\n",
    "For each additional unit of `Irrigation_pumping`, Observed increases by 11.257441. (Since the amount of water being pumped out for irrigation decreses as `Irrigation_pumping` increases, this is saying that one unit _less_ of water being pumped out of the river for irrigation results in 11.257 units more of Observed.)"
   ]
  },
  {
   "cell_type": "markdown",
   "metadata": {},
   "source": [
    "We can plot the confidence intervals using Seaborn. The confidence intervals are computed a little differently: the data is binned according to the independent variable and then a band containing 95% of the means of the bin is shown."
   ]
  },
  {
   "cell_type": "code",
   "execution_count": null,
   "metadata": {},
   "outputs": [],
   "source": [
    "import seaborn as sns\n",
    "\n",
    "# take a sample of the dataset to make the plot more manageable\n",
    "df_sample = df.sample(n=1000)\n",
    "\n",
    "# Plot the sampled data with the confidence interval\n",
    "plt.figure()\n",
    "ax = sns.regplot(x='Irrigation_pumping', y='Observed', data=df_sample, ci=95, scatter_kws={'s': 1})\n",
    "\n",
    "plt.figure()\n",
    "ax = sns.regplot(x='Evapotranspiration', y='Observed', data=df_sample, ci=95, scatter_kws={'s': 1})\n",
    "\n",
    "plt.figure()\n",
    "ax = sns.regplot(x='Precipitation', y='Observed', data=df_sample, ci=95, scatter_kws={'s': 1})"
   ]
  },
  {
   "cell_type": "markdown",
   "metadata": {},
   "source": [
    "The shaded region shows all possible regression curves within the 95% confidence interval."
   ]
  },
  {
   "cell_type": "markdown",
   "metadata": {},
   "source": [
    "## Hypothesis Testing and p-values\n",
    "\n",
    "As it relates to model coefficients, here is the conventional hypothesis test:\n",
    "- **null hypothesis:** There is no relationship between irrigation pumping and observed flow (and thus $\\beta_1$ equals zero)\n",
    "- **alternative hypothesis:** There is a relationship between irrigation pumping and observed flow (and thus $\\beta_1$ is not equal to zero)\n",
    "\n",
    "We reject the null (and thus believe the alternative) if the 95% confidence interval __does not include zero__. The p-value represents the probability that the coefficient is actually zero:"
   ]
  },
  {
   "cell_type": "code",
   "execution_count": null,
   "metadata": {},
   "outputs": [],
   "source": [
    "# lm = smf.ols(formula='Observed ~ Irrigation_pumping + Precipitation + Evapotranspiration', data=df).fit()\n",
    "lm = smf.ols(formula='Observed ~ Irrigation_pumping', data=df).fit()\n",
    "# print the p-values for the model coefficients\n",
    "display(lm.pvalues)\n",
    "\n",
    "lm = smf.ols(formula='Observed ~ Evapotranspiration', data=df).fit()\n",
    "display(lm.pvalues)\n",
    "\n",
    "lm = smf.ols(formula='Observed ~ Precipitation', data=df).fit()\n",
    "display(lm.pvalues)"
   ]
  },
  {
   "cell_type": "markdown",
   "metadata": {},
   "source": [
    "If the 95% confidence interval **includes zero**, the p-value for that coefficient will be **greater than 0.05**. If the 95% confidence interval **does not include zero**, the p-value will be **less than 0.05**. Thus, a p-value less than 0.05 is one way to decide whether there is likely a relationship between the feature and the response. (Again, using 0.05 as the cutoff is just a convention.)\n",
    "\n",
    "In this case, the p-value for `Irrigation_pumping` is far less than 0.05, and so we **believe** that there is a relationship between irrigation pumping and observed flow."
   ]
  },
  {
   "cell_type": "markdown",
   "metadata": {},
   "source": [
    "## How Well Does the Model Fit the data? (R-squared)\n",
    "\n",
    "The most common way to evaluate the overall fit of a linear model is by the **R-squared** value. R-squared is the **proportion of variance explained**, meaning the proportion of variance in the observed data that is explained by the model, or the reduction in error over the **null model**. (The null model just predicts the mean of the observed response, and thus it has an intercept and no slope.)\n",
    "\n",
    "$R^2 = 1 - \\frac{\\text{residual}}{\\text{total variation}} = \\frac{\\sum_{i=1}^N (y_i-\\hat{y}_i)^2}{\\sum_{i=1}^N (y_i-\\overline{y})^2}$\n",
    "\n",
    "where $\\overline{y}$ is the average value and $\\hat{y}_i$ is the predicted value.\n",
    "\n",
    "R-squared is between 0 and 1, and higher is better because it means that more variance is explained by the model. This is a way of normalizing the raw residual.\n",
    "\n",
    "Let's calculate the R-squared value for our simple linear model:"
   ]
  },
  {
   "cell_type": "code",
   "execution_count": null,
   "metadata": {},
   "outputs": [],
   "source": [
    "# Print the R-squared value for the model using statsmodels\n",
    "lm = smf.ols(formula='Observed ~ Irrigation_pumping', data=df).fit()\n",
    "display(lm.rsquared)\n",
    "\n",
    "# Print the R-squared value for the model using sklearn\n",
    "lm = LinearRegression()\n",
    "lm.fit(df[['Irrigation_pumping']], df.Observed)\n",
    "display(lm.score(df[['Irrigation_pumping']], df.Observed))"
   ]
  },
  {
   "cell_type": "markdown",
   "metadata": {},
   "source": [
    "Is that a \"good\" R-squared value? It's hard to say. The threshold for a good R-squared value depends widely on the domain. Therefore, it's most useful as a tool for comparing different models."
   ]
  },
  {
   "cell_type": "markdown",
   "metadata": {},
   "source": [
    "## Multiple Linear Regression\n",
    "\n",
    "Simple linear regression can easily be extended to include multiple features. This is called __multiple linear regression__.\n",
    "\n",
    "Each $x$ represents a different feature, and each feature has its own coefficient.\n",
    "\n",
    "Use sklearn to estimate these coefficients:"
   ]
  },
  {
   "cell_type": "code",
   "execution_count": null,
   "metadata": {},
   "outputs": [],
   "source": [
    "# create X and y\n",
    "feature_cols = ['Irrigation_pumping', 'Precipitation', 'Evapotranspiration']\n",
    "X = df[feature_cols]\n",
    "y = df.Observed\n",
    "\n",
    "# follow the usual sklearn pattern: import, instantiate, fit\n",
    "from sklearn.linear_model import LinearRegression\n",
    "lm = LinearRegression()\n",
    "lm.fit(X, y)\n",
    "\n",
    "# print intercept and coefficients\n",
    "print(lm.intercept_)\n",
    "display(list(zip(feature_cols, lm.coef_)))"
   ]
  },
  {
   "cell_type": "markdown",
   "metadata": {},
   "source": [
    "How do we interpret these results? For a given amount of irrigation pumping, precipitation, and evapotranspiration, an __increase of 1 unit of irrigation pumping__ is associated with an __increase in observed waterflow of 18.73476__.\n",
    "\n",
    "A lot of the information we have been reviewing piece-by-piece is available in the model summary output using statsmodels:"
   ]
  },
  {
   "cell_type": "code",
   "execution_count": null,
   "metadata": {},
   "outputs": [],
   "source": [
    "# create a fitted model with all three features\n",
    "lm = smf.ols(formula='Observed ~ Irrigation_pumping + Precipitation + Evapotranspiration', data=df).fit()\n",
    "\n",
    "# print the coefficients\n",
    "display(lm.params)\n",
    "\n",
    "# print the summary of the fitted model\n",
    "display(lm.summary())"
   ]
  },
  {
   "cell_type": "markdown",
   "metadata": {},
   "source": [
    "What are a few things we learn from this output?\n",
    "* ...\n",
    "* ...\n",
    "* ..."
   ]
  },
  {
   "cell_type": "markdown",
   "metadata": {},
   "source": [
    "## Feature Selection\n",
    "\n",
    "Which features are we going to include in our linear model?\n",
    "\n",
    "According to the scatterplots we did of each segment of the river, irrigation pumping and evapostranspiration seem to be correlated with observed flow. Precipation doesn't have any apparent correlation with observed flow."
   ]
  }
 ],
 "metadata": {
  "kernelspec": {
   "display_name": "Python 3",
   "language": "python",
   "name": "python3"
  },
  "language_info": {
   "codemirror_mode": {
    "name": "ipython",
    "version": 3
   },
   "file_extension": ".py",
   "mimetype": "text/x-python",
   "name": "python",
   "nbconvert_exporter": "python",
   "pygments_lexer": "ipython3",
   "version": "3.13.0"
  }
 },
 "nbformat": 4,
 "nbformat_minor": 2
}
